{
  "cells": [
    {
      "cell_type": "markdown",
      "metadata": {
        "id": "view-in-github",
        "colab_type": "text"
      },
      "source": [
        "<a href=\"https://colab.research.google.com/github/pintophilip/Agentic-AI-Application/blob/main/langgraph_maths_llama_final.ipynb\" target=\"_parent\"><img src=\"https://colab.research.google.com/assets/colab-badge.svg\" alt=\"Open In Colab\"/></a>"
      ]
    },
    {
      "cell_type": "markdown",
      "metadata": {
        "id": "ZJa_NJTwQ0KV"
      },
      "source": [
        "# LangGraph Agent Using LLM and Custom Math Functions\n",
        "This notebook demonstrates how to use LangGraph and a Groq-compatible LLM to answer both general and mathematical questions using custom functions."
      ]
    },
    {
      "cell_type": "code",
      "execution_count": 1,
      "metadata": {
        "colab": {
          "base_uri": "https://localhost:8080/"
        },
        "id": "x9uy2gNQQ0KX",
        "outputId": "fd652fbb-6c63-449b-ffbb-0d167958ab29"
      },
      "outputs": [
        {
          "output_type": "stream",
          "name": "stdout",
          "text": [
            "Collecting langgraph\n",
            "  Downloading langgraph-0.3.27-py3-none-any.whl.metadata (7.7 kB)\n",
            "Requirement already satisfied: langchain in /usr/local/lib/python3.11/dist-packages (0.3.22)\n",
            "Collecting langchain\n",
            "  Downloading langchain-0.3.23-py3-none-any.whl.metadata (7.8 kB)\n",
            "Collecting langchain_groq\n",
            "  Downloading langchain_groq-0.3.2-py3-none-any.whl.metadata (2.6 kB)\n",
            "Requirement already satisfied: langchain-core<0.4,>=0.1 in /usr/local/lib/python3.11/dist-packages (from langgraph) (0.3.50)\n",
            "Collecting langgraph-checkpoint<3.0.0,>=2.0.10 (from langgraph)\n",
            "  Downloading langgraph_checkpoint-2.0.24-py3-none-any.whl.metadata (4.6 kB)\n",
            "Collecting langgraph-prebuilt<0.2,>=0.1.1 (from langgraph)\n",
            "  Downloading langgraph_prebuilt-0.1.8-py3-none-any.whl.metadata (5.0 kB)\n",
            "Collecting langgraph-sdk<0.2.0,>=0.1.42 (from langgraph)\n",
            "  Downloading langgraph_sdk-0.1.61-py3-none-any.whl.metadata (1.8 kB)\n",
            "Collecting xxhash<4.0.0,>=3.5.0 (from langgraph)\n",
            "  Downloading xxhash-3.5.0-cp311-cp311-manylinux_2_17_x86_64.manylinux2014_x86_64.whl.metadata (12 kB)\n",
            "Collecting langchain-core<0.4,>=0.1 (from langgraph)\n",
            "  Downloading langchain_core-0.3.51-py3-none-any.whl.metadata (5.9 kB)\n",
            "Collecting langchain-text-splitters<1.0.0,>=0.3.8 (from langchain)\n",
            "  Downloading langchain_text_splitters-0.3.8-py3-none-any.whl.metadata (1.9 kB)\n",
            "Requirement already satisfied: langsmith<0.4,>=0.1.17 in /usr/local/lib/python3.11/dist-packages (from langchain) (0.3.23)\n",
            "Requirement already satisfied: pydantic<3.0.0,>=2.7.4 in /usr/local/lib/python3.11/dist-packages (from langchain) (2.11.2)\n",
            "Requirement already satisfied: SQLAlchemy<3,>=1.4 in /usr/local/lib/python3.11/dist-packages (from langchain) (2.0.40)\n",
            "Requirement already satisfied: requests<3,>=2 in /usr/local/lib/python3.11/dist-packages (from langchain) (2.32.3)\n",
            "Requirement already satisfied: PyYAML>=5.3 in /usr/local/lib/python3.11/dist-packages (from langchain) (6.0.2)\n",
            "Collecting groq<1,>=0.4.1 (from langchain_groq)\n",
            "  Downloading groq-0.22.0-py3-none-any.whl.metadata (15 kB)\n",
            "Requirement already satisfied: anyio<5,>=3.5.0 in /usr/local/lib/python3.11/dist-packages (from groq<1,>=0.4.1->langchain_groq) (4.9.0)\n",
            "Requirement already satisfied: distro<2,>=1.7.0 in /usr/local/lib/python3.11/dist-packages (from groq<1,>=0.4.1->langchain_groq) (1.9.0)\n",
            "Requirement already satisfied: httpx<1,>=0.23.0 in /usr/local/lib/python3.11/dist-packages (from groq<1,>=0.4.1->langchain_groq) (0.28.1)\n",
            "Requirement already satisfied: sniffio in /usr/local/lib/python3.11/dist-packages (from groq<1,>=0.4.1->langchain_groq) (1.3.1)\n",
            "Requirement already satisfied: typing-extensions<5,>=4.10 in /usr/local/lib/python3.11/dist-packages (from groq<1,>=0.4.1->langchain_groq) (4.13.1)\n",
            "Requirement already satisfied: tenacity!=8.4.0,<10.0.0,>=8.1.0 in /usr/local/lib/python3.11/dist-packages (from langchain-core<0.4,>=0.1->langgraph) (9.1.2)\n",
            "Requirement already satisfied: jsonpatch<2.0,>=1.33 in /usr/local/lib/python3.11/dist-packages (from langchain-core<0.4,>=0.1->langgraph) (1.33)\n",
            "Requirement already satisfied: packaging<25,>=23.2 in /usr/local/lib/python3.11/dist-packages (from langchain-core<0.4,>=0.1->langgraph) (24.2)\n",
            "Collecting ormsgpack<2.0.0,>=1.8.0 (from langgraph-checkpoint<3.0.0,>=2.0.10->langgraph)\n",
            "  Downloading ormsgpack-1.9.1-cp311-cp311-manylinux_2_17_x86_64.manylinux2014_x86_64.whl.metadata (43 kB)\n",
            "\u001b[2K     \u001b[90m━━━━━━━━━━━━━━━━━━━━━━━━━━━━━━━━━━━━━━━━\u001b[0m \u001b[32m43.5/43.5 kB\u001b[0m \u001b[31m1.8 MB/s\u001b[0m eta \u001b[36m0:00:00\u001b[0m\n",
            "\u001b[?25hRequirement already satisfied: orjson>=3.10.1 in /usr/local/lib/python3.11/dist-packages (from langgraph-sdk<0.2.0,>=0.1.42->langgraph) (3.10.16)\n",
            "Requirement already satisfied: requests-toolbelt<2.0.0,>=1.0.0 in /usr/local/lib/python3.11/dist-packages (from langsmith<0.4,>=0.1.17->langchain) (1.0.0)\n",
            "Requirement already satisfied: zstandard<0.24.0,>=0.23.0 in /usr/local/lib/python3.11/dist-packages (from langsmith<0.4,>=0.1.17->langchain) (0.23.0)\n",
            "Requirement already satisfied: annotated-types>=0.6.0 in /usr/local/lib/python3.11/dist-packages (from pydantic<3.0.0,>=2.7.4->langchain) (0.7.0)\n",
            "Requirement already satisfied: pydantic-core==2.33.1 in /usr/local/lib/python3.11/dist-packages (from pydantic<3.0.0,>=2.7.4->langchain) (2.33.1)\n",
            "Requirement already satisfied: typing-inspection>=0.4.0 in /usr/local/lib/python3.11/dist-packages (from pydantic<3.0.0,>=2.7.4->langchain) (0.4.0)\n",
            "Requirement already satisfied: charset-normalizer<4,>=2 in /usr/local/lib/python3.11/dist-packages (from requests<3,>=2->langchain) (3.4.1)\n",
            "Requirement already satisfied: idna<4,>=2.5 in /usr/local/lib/python3.11/dist-packages (from requests<3,>=2->langchain) (3.10)\n",
            "Requirement already satisfied: urllib3<3,>=1.21.1 in /usr/local/lib/python3.11/dist-packages (from requests<3,>=2->langchain) (2.3.0)\n",
            "Requirement already satisfied: certifi>=2017.4.17 in /usr/local/lib/python3.11/dist-packages (from requests<3,>=2->langchain) (2025.1.31)\n",
            "Requirement already satisfied: greenlet>=1 in /usr/local/lib/python3.11/dist-packages (from SQLAlchemy<3,>=1.4->langchain) (3.1.1)\n",
            "Requirement already satisfied: httpcore==1.* in /usr/local/lib/python3.11/dist-packages (from httpx<1,>=0.23.0->groq<1,>=0.4.1->langchain_groq) (1.0.7)\n",
            "Requirement already satisfied: h11<0.15,>=0.13 in /usr/local/lib/python3.11/dist-packages (from httpcore==1.*->httpx<1,>=0.23.0->groq<1,>=0.4.1->langchain_groq) (0.14.0)\n",
            "Requirement already satisfied: jsonpointer>=1.9 in /usr/local/lib/python3.11/dist-packages (from jsonpatch<2.0,>=1.33->langchain-core<0.4,>=0.1->langgraph) (3.0.0)\n",
            "Downloading langgraph-0.3.27-py3-none-any.whl (142 kB)\n",
            "\u001b[2K   \u001b[90m━━━━━━━━━━━━━━━━━━━━━━━━━━━━━━━━━━━━━━━━\u001b[0m \u001b[32m143.0/143.0 kB\u001b[0m \u001b[31m4.4 MB/s\u001b[0m eta \u001b[36m0:00:00\u001b[0m\n",
            "\u001b[?25hDownloading langchain-0.3.23-py3-none-any.whl (1.0 MB)\n",
            "\u001b[2K   \u001b[90m━━━━━━━━━━━━━━━━━━━━━━━━━━━━━━━━━━━━━━━━\u001b[0m \u001b[32m1.0/1.0 MB\u001b[0m \u001b[31m20.7 MB/s\u001b[0m eta \u001b[36m0:00:00\u001b[0m\n",
            "\u001b[?25hDownloading langchain_groq-0.3.2-py3-none-any.whl (15 kB)\n",
            "Downloading groq-0.22.0-py3-none-any.whl (126 kB)\n",
            "\u001b[2K   \u001b[90m━━━━━━━━━━━━━━━━━━━━━━━━━━━━━━━━━━━━━━━━\u001b[0m \u001b[32m126.7/126.7 kB\u001b[0m \u001b[31m9.7 MB/s\u001b[0m eta \u001b[36m0:00:00\u001b[0m\n",
            "\u001b[?25hDownloading langchain_core-0.3.51-py3-none-any.whl (423 kB)\n",
            "\u001b[2K   \u001b[90m━━━━━━━━━━━━━━━━━━━━━━━━━━━━━━━━━━━━━━━━\u001b[0m \u001b[32m423.3/423.3 kB\u001b[0m \u001b[31m12.9 MB/s\u001b[0m eta \u001b[36m0:00:00\u001b[0m\n",
            "\u001b[?25hDownloading langchain_text_splitters-0.3.8-py3-none-any.whl (32 kB)\n",
            "Downloading langgraph_checkpoint-2.0.24-py3-none-any.whl (42 kB)\n",
            "\u001b[2K   \u001b[90m━━━━━━━━━━━━━━━━━━━━━━━━━━━━━━━━━━━━━━━━\u001b[0m \u001b[32m42.0/42.0 kB\u001b[0m \u001b[31m2.8 MB/s\u001b[0m eta \u001b[36m0:00:00\u001b[0m\n",
            "\u001b[?25hDownloading langgraph_prebuilt-0.1.8-py3-none-any.whl (25 kB)\n",
            "Downloading langgraph_sdk-0.1.61-py3-none-any.whl (47 kB)\n",
            "\u001b[2K   \u001b[90m━━━━━━━━━━━━━━━━━━━━━━━━━━━━━━━━━━━━━━━━\u001b[0m \u001b[32m47.2/47.2 kB\u001b[0m \u001b[31m2.8 MB/s\u001b[0m eta \u001b[36m0:00:00\u001b[0m\n",
            "\u001b[?25hDownloading xxhash-3.5.0-cp311-cp311-manylinux_2_17_x86_64.manylinux2014_x86_64.whl (194 kB)\n",
            "\u001b[2K   \u001b[90m━━━━━━━━━━━━━━━━━━━━━━━━━━━━━━━━━━━━━━━━\u001b[0m \u001b[32m194.8/194.8 kB\u001b[0m \u001b[31m4.7 MB/s\u001b[0m eta \u001b[36m0:00:00\u001b[0m\n",
            "\u001b[?25hDownloading ormsgpack-1.9.1-cp311-cp311-manylinux_2_17_x86_64.manylinux2014_x86_64.whl (223 kB)\n",
            "\u001b[2K   \u001b[90m━━━━━━━━━━━━━━━━━━━━━━━━━━━━━━━━━━━━━━━━\u001b[0m \u001b[32m223.6/223.6 kB\u001b[0m \u001b[31m11.7 MB/s\u001b[0m eta \u001b[36m0:00:00\u001b[0m\n",
            "\u001b[?25hInstalling collected packages: xxhash, ormsgpack, langgraph-sdk, groq, langchain-core, langgraph-checkpoint, langchain-text-splitters, langchain_groq, langgraph-prebuilt, langchain, langgraph\n",
            "  Attempting uninstall: langchain-core\n",
            "    Found existing installation: langchain-core 0.3.50\n",
            "    Uninstalling langchain-core-0.3.50:\n",
            "      Successfully uninstalled langchain-core-0.3.50\n",
            "  Attempting uninstall: langchain-text-splitters\n",
            "    Found existing installation: langchain-text-splitters 0.3.7\n",
            "    Uninstalling langchain-text-splitters-0.3.7:\n",
            "      Successfully uninstalled langchain-text-splitters-0.3.7\n",
            "  Attempting uninstall: langchain\n",
            "    Found existing installation: langchain 0.3.22\n",
            "    Uninstalling langchain-0.3.22:\n",
            "      Successfully uninstalled langchain-0.3.22\n",
            "Successfully installed groq-0.22.0 langchain-0.3.23 langchain-core-0.3.51 langchain-text-splitters-0.3.8 langchain_groq-0.3.2 langgraph-0.3.27 langgraph-checkpoint-2.0.24 langgraph-prebuilt-0.1.8 langgraph-sdk-0.1.61 ormsgpack-1.9.1 xxhash-3.5.0\n"
          ]
        }
      ],
      "source": [
        "# 🛠️ Install Required Libraries\n",
        "!pip install --upgrade langgraph langchain langchain_groq\n",
        "\n",
        "# 🔐 Set up your Groq API Key\n",
        "import os\n",
        "os.environ[\"GROQ_API_KEY\"] = \"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\""
      ]
    },
    {
      "cell_type": "code",
      "execution_count": 55,
      "metadata": {
        "id": "5hH_7NZjQ0KY"
      },
      "outputs": [],
      "source": [
        "# 🔣 Import Libraries\n",
        "from langchain_core.tools import tool\n",
        "from langchain_core.messages import HumanMessage\n",
        "from langchain_groq import ChatGroq\n",
        "from langgraph.graph import StateGraph, END\n",
        "from typing import TypedDict, Optional\n",
        "import re"
      ]
    },
    {
      "cell_type": "code",
      "execution_count": 4,
      "metadata": {
        "id": "r7H3TwbHQ0KZ"
      },
      "outputs": [],
      "source": [
        "# Define Custom Math Tools\n",
        "\n",
        "@tool(description=\"Adds two numbers together.\")\n",
        "def plus(a: float, b: float) -> float:\n",
        "    return a + b\n",
        "\n",
        "@tool(description=\"Subtracts two numbers.\")\n",
        "def subtract(a: float, b: float) -> float:\n",
        "    return a - b\n",
        "\n",
        "@tool(description=\"Multiplies two numbers.\")\n",
        "def multiply(a: float, b: float) -> float:\n",
        "    return a * b\n",
        "\n",
        "@tool(description=\"Divides two numbers.\")\n",
        "def divide(a: float, b: float) -> float:\n",
        "    try:\n",
        "        return a / b\n",
        "    except ZeroDivisionError:\n",
        "        return \"Cannot divide by zero.\"\n"
      ]
    },
    {
      "cell_type": "code",
      "execution_count": 54,
      "metadata": {
        "colab": {
          "base_uri": "https://localhost:8080/"
        },
        "id": "bzZS6r9KQ0KZ",
        "outputId": "07b13f7c-453d-40bd-9c44-c3ca22ef37e4"
      },
      "outputs": [
        {
          "output_type": "stream",
          "name": "stdout",
          "text": [
            "The President of India is Droupadi Murmu. She took office on July 25, 2022, and is the 15th President of India.\n"
          ]
        }
      ],
      "source": [
        "# Set Up Mistral LLM via Groq\n",
        "llm = ChatGroq(\n",
        "    model=\"llama-3.3-70b-versatile\",\n",
        "    api_key=os.getenv(\"GROQ_API_KEY\")\n",
        ")\n",
        "\n",
        "# Call LLM correctly\n",
        "response = llm.invoke([HumanMessage(content=\"Who is the president of India?\")])\n",
        "print(response.content)"
      ]
    },
    {
      "cell_type": "code",
      "execution_count": 45,
      "metadata": {
        "id": "C7o08SdfQ0Ka"
      },
      "outputs": [],
      "source": [
        "# 🧾 Define Agent State\n",
        "class AgentState(TypedDict):\n",
        "    query: str\n",
        "    result: Optional[str]"
      ]
    },
    {
      "cell_type": "code",
      "execution_count": 46,
      "metadata": {
        "id": "I9lkk1DeQ0Ka"
      },
      "outputs": [],
      "source": [
        "# 🔍 Decide if query is math or general\n",
        "def detect_query_type(state: AgentState) -> str:\n",
        "    query = state[\"query\"].lower()\n",
        "    if any(word in query for word in [\"plus\", \"add\", \"minus\", \"subtract\", \"multiply\", \"times\", \"divide\"]):\n",
        "        return \"math_node\"\n",
        "    return \"llm_node\""
      ]
    },
    {
      "cell_type": "code",
      "execution_count": 56,
      "metadata": {
        "id": "xM7D-Nq1Q0Ka"
      },
      "outputs": [],
      "source": [
        "def math_node(state: AgentState) -> AgentState:\n",
        "    query = state[\"query\"].lower()\n",
        "\n",
        "    # Extract numbers using regex (robust for negatives, decimals, punctuation)\n",
        "    nums = [float(n) for n in re.findall(r\"-?\\d+(?:\\.\\d+)?\", query)]\n",
        "\n",
        "    if len(nums) < 2:\n",
        "        return {\"query\": state[\"query\"], \"result\": \"Sorry, I need two numbers for this operation.\"}\n",
        "\n",
        "    if \"plus\" in query or \"add\" in query or \"sum\" in query:\n",
        "        result = plus.invoke({\"a\": nums[0], \"b\": nums[1]})\n",
        "    elif \"minus\" in query or \"subtract\" in query or \"difference\" in query:\n",
        "        result = subtract.invoke({\"a\": nums[0], \"b\": nums[1]})\n",
        "    elif \"multiply\" in query or \"times\" in query or \"product\" in query:\n",
        "        result = multiply.invoke({\"a\": nums[0], \"b\": nums[1]})\n",
        "    elif \"divide\" in query or \"divided\" in query:\n",
        "        result = divide.invoke({\"a\": nums[0], \"b\": nums[1]})\n",
        "    else:\n",
        "        return {\"query\": state[\"query\"], \"result\": \"Sorry, I didn't understand the math operation.\"}\n",
        "\n",
        "    return {\"query\": state[\"query\"], \"result\": str(result)}"
      ]
    },
    {
      "cell_type": "code",
      "execution_count": 57,
      "metadata": {
        "id": "R7ZZnJ9wQ0Kb"
      },
      "outputs": [],
      "source": [
        "# 💬 Handle General LLM Queries\n",
        "def llm_node(state: AgentState) -> AgentState:\n",
        "    response = llm.invoke([HumanMessage(content=state[\"query\"])])\n",
        "    return {\"query\": state[\"query\"], \"result\": response.content}"
      ]
    },
    {
      "cell_type": "code",
      "execution_count": 58,
      "metadata": {
        "colab": {
          "base_uri": "https://localhost:8080/"
        },
        "id": "0yOShlwXQ0Kb",
        "outputId": "ff872506-799b-4220-d8ad-00aae07379c2"
      },
      "outputs": [
        {
          "output_type": "stream",
          "name": "stdout",
          "text": [
            "➡️ Math Test:\n",
            "Response: 12.0\n",
            "\n",
            "➡️ General Knowledge Test:\n",
            "Response: The President of India is Droupadi Murmu. She took office on July 25, 2022, and is the 15th President of India. Prior to her presidency, she served as the Governor of Jharkhand from 2015 to 2021.\n"
          ]
        }
      ],
      "source": [
        "# ✅ Build the LangGraph\n",
        "builder = StateGraph(AgentState)\n",
        "builder.add_node(\"math_node\", math_node)\n",
        "builder.add_node(\"llm_node\", llm_node)\n",
        "builder.set_conditional_entry_point(detect_query_type)\n",
        "builder.add_edge(\"math_node\", END)\n",
        "builder.add_edge(\"llm_node\", END)\n",
        "graph = builder.compile()\n",
        "\n",
        "# ✅ Test the agent\n",
        "print(\"➡️ Math Test:\")\n",
        "output = graph.invoke({\"query\": \"What is 7 plus 5?\"})\n",
        "print(\"Response:\", output[\"result\"])\n",
        "\n",
        "print(\"\\n➡️ General Knowledge Test:\")\n",
        "output = graph.invoke({\"query\": \"Who is the president of India?\"})\n",
        "print(\"Response:\", output[\"result\"])\n",
        ""
      ]
    },
    {
      "cell_type": "code",
      "execution_count": 61,
      "metadata": {
        "colab": {
          "base_uri": "https://localhost:8080/"
        },
        "id": "AWv5QawKQ0Kb",
        "outputId": "966430c1-6379-444d-a526-7f1a5aaebbb6"
      },
      "outputs": [
        {
          "output_type": "stream",
          "name": "stdout",
          "text": [
            "All math query tests passed!\n"
          ]
        }
      ],
      "source": [
        "def test_math_query():\n",
        "    \"\"\"Tests the math_node function with various math queries.\"\"\"\n",
        "\n",
        "    # Define test cases\n",
        "    test_cases = [\n",
        "        (\"What is 6 plus 4?\", \"10.0\"),\n",
        "        (\"What is 10 minus 5?\", \"5.0\"),\n",
        "        (\"What is 3 times 7?\", \"21.0\"),\n",
        "        (\"What is 20 divided by 4?\", \"5.0\"),\n",
        "        (\"What is 5 plus -2?\", \"3.0\"),  # Test with negative numbers\n",
        "        (\"Calculate 15 minus 7\", \"8.0\"),  # Test without question mark\n",
        "        (\"What is 6 plus?\", \"Sorry, I need two numbers for this operation.\"), # Test with missing number\n",
        "\n",
        "    ]\n",
        "\n",
        "    # Run tests and assert results\n",
        "    for query, expected_result in test_cases:\n",
        "        output = graph.invoke({\"query\": query})\n",
        "        assert output[\"result\"] == expected_result, f\"Test failed for query: '{query}'. Expected: '{expected_result}', Got: '{output['result']}'.\"\n",
        "\n",
        "    print(\"All math query tests passed!\")\n",
        "\n",
        "# Call the test function\n",
        "test_math_query()"
      ]
    }
  ],
  "metadata": {
    "kernelspec": {
      "display_name": "Python 3",
      "language": "python",
      "name": "python3"
    },
    "language_info": {
      "name": "python"
    },
    "colab": {
      "provenance": [],
      "include_colab_link": true
    }
  },
  "nbformat": 4,
  "nbformat_minor": 0
}